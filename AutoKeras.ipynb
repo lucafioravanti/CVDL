{
  "cells": [
    {
      "cell_type": "markdown",
      "id": "4a80c05c-68f7-4b8e-a7b8-9fb4aaf058d8",
      "metadata": {
        "id": "4a80c05c-68f7-4b8e-a7b8-9fb4aaf058d8"
      },
      "source": [
        "### Skin Lesion Diagnose using Deep Learning\n"
      ]
    },
    {
      "cell_type": "markdown",
      "id": "63258c25-a4c3-414c-86cd-6b4e69ce5e16",
      "metadata": {
        "id": "63258c25-a4c3-414c-86cd-6b4e69ce5e16"
      },
      "source": [
        "The purpuse is to explore the use of a AutoML techniques (AutoKeras) to classify skin lesions from dermatoscopic images (HAM10000 Dataset)\n",
        "\n",
        "`Team members: Luca Fioravanti, Lyazid Drissi, Olushina Ale, Ur Mushhood, Qi Zhonghua, Luis Rocholl`\n",
        "\n",
        "March 3, 2024"
      ]
    },
    {
      "cell_type": "markdown",
      "id": "bc9a8ddd-d78b-4802-bd01-dcf5944a9b2b",
      "metadata": {
        "id": "bc9a8ddd-d78b-4802-bd01-dcf5944a9b2b"
      },
      "source": [
        "### Autokeras AutoML"
      ]
    },
    {
      "cell_type": "code",
      "execution_count": null,
      "id": "3780da39-1eab-4e64-ba59-1505e3d84069",
      "metadata": {
        "id": "3780da39-1eab-4e64-ba59-1505e3d84069",
        "outputId": "1588a186-f70b-49e5-d5d2-921680991207"
      },
      "outputs": [
        {
          "name": "stdout",
          "output_type": "stream",
          "text": [
            "Using TensorFlow backend\n"
          ]
        }
      ],
      "source": [
        "import pandas as pd\n",
        "from autokeras import ImageClassifier, image_dataset_from_directory\n",
        "from tensorflow.keras.preprocessing.image import ImageDataGenerator\n",
        "from tensorflow.keras.layers.experimental.preprocessing import StringLookup\n",
        "import tensorflow as tf\n",
        "import os\n",
        "import autokeras as ak"
      ]
    },
    {
      "cell_type": "code",
      "execution_count": null,
      "id": "da6d8b77-31b5-46c5-8fda-ecfd2aec3559",
      "metadata": {
        "id": "da6d8b77-31b5-46c5-8fda-ecfd2aec3559",
        "outputId": "81974429-f2c6-4682-d2ec-b11a915f73dc"
      },
      "outputs": [
        {
          "name": "stdout",
          "output_type": "stream",
          "text": [
            "Num GPUs Available:  1\n"
          ]
        }
      ],
      "source": [
        "# check if GPUs are available for taster training\n",
        "\n",
        "print(\"Num GPUs Available: \", len(tf.config.list_physical_devices('GPU')))"
      ]
    },
    {
      "cell_type": "code",
      "execution_count": null,
      "id": "571ce282-5a75-4563-9e68-398bb4038bdd",
      "metadata": {
        "id": "571ce282-5a75-4563-9e68-398bb4038bdd"
      },
      "outputs": [],
      "source": [
        "# Load metadata file\n",
        "metadata_path = 'ham10000/HAM10000_metadata.csv'  # Update this path\n",
        "data_folder = 'ham10000/images'  # Update this path\n",
        "metadata = pd.read_csv(metadata_path)\n"
      ]
    },
    {
      "cell_type": "code",
      "execution_count": null,
      "id": "ed74204f-ea5d-47aa-a62d-342c18053938",
      "metadata": {
        "id": "ed74204f-ea5d-47aa-a62d-342c18053938"
      },
      "outputs": [],
      "source": [
        "# Get the file names and labels\n",
        "file_names = metadata['image'].tolist()\n",
        "labels = metadata['label'].tolist()"
      ]
    },
    {
      "cell_type": "code",
      "execution_count": null,
      "id": "d15addfa-463d-48c2-b9ba-332d7b095ab0",
      "metadata": {
        "id": "d15addfa-463d-48c2-b9ba-332d7b095ab0"
      },
      "outputs": [],
      "source": [
        "# Prepare the dataset\n",
        "# The labels are assumed to be in a column named 'label'\n",
        "# The filenames are assumed to be in a column named 'filename'\n",
        "metadata['image'] = metadata['image'] + \".jpg\"\n",
        "filenames = metadata['image'].apply(lambda x: os.path.join(data_folder, x))\n",
        "labels = metadata['label']"
      ]
    },
    {
      "cell_type": "code",
      "execution_count": null,
      "id": "21d8ac68-e77a-4aa4-a2d1-ff37d3284f2c",
      "metadata": {
        "id": "21d8ac68-e77a-4aa4-a2d1-ff37d3284f2c",
        "outputId": "24cd805f-3bd9-4c8d-a38c-b807c5fd02b0"
      },
      "outputs": [
        {
          "data": {
            "text/plain": [
              "10015"
            ]
          },
          "execution_count": 6,
          "metadata": {},
          "output_type": "execute_result"
        }
      ],
      "source": [
        "len(filenames)"
      ]
    },
    {
      "cell_type": "code",
      "execution_count": null,
      "id": "e37cab62-3657-4b80-844e-b8e68262245d",
      "metadata": {
        "id": "e37cab62-3657-4b80-844e-b8e68262245d"
      },
      "outputs": [],
      "source": [
        "# Initialize the StringLookup layer and adapt it to the labels\n",
        "label_encoder = StringLookup()\n",
        "label_encoder.adapt(labels)\n"
      ]
    },
    {
      "cell_type": "code",
      "execution_count": null,
      "id": "5f4cbbf8-f18b-4260-8dde-11a69b50367a",
      "metadata": {
        "id": "5f4cbbf8-f18b-4260-8dde-11a69b50367a"
      },
      "outputs": [],
      "source": [
        "# Encode labels using the adapted StringLookup layer\n",
        "labels_encoded = label_encoder(labels)"
      ]
    },
    {
      "cell_type": "code",
      "execution_count": null,
      "id": "92046d9e-5f1b-4dc4-b3c7-e1f97e882027",
      "metadata": {
        "id": "92046d9e-5f1b-4dc4-b3c7-e1f97e882027"
      },
      "outputs": [],
      "source": [
        "# Use one hot encoding for skin cancer lesions\n",
        "labels_one_hot = tf.keras.utils.to_categorical(labels_encoded - label_encoder.vocabulary_size(), num_classes=label_encoder.vocabulary_size())\n"
      ]
    },
    {
      "cell_type": "code",
      "execution_count": null,
      "id": "9675a52f-622e-4af2-87d3-78184b1b906b",
      "metadata": {
        "id": "9675a52f-622e-4af2-87d3-78184b1b906b"
      },
      "outputs": [],
      "source": [
        "# Helper furnction to parse images and labels using tensorflow\n",
        "def parse_image(file_path, label):\n",
        "    image = tf.io.read_file(file_path)\n",
        "    image = tf.image.decode_jpeg(image, channels=3)\n",
        "    image = tf.image.resize(image, [256, 256])\n",
        "    return image, label"
      ]
    },
    {
      "cell_type": "code",
      "execution_count": null,
      "id": "d080a944-c622-433e-96bc-9b042b536489",
      "metadata": {
        "id": "d080a944-c622-433e-96bc-9b042b536489"
      },
      "outputs": [],
      "source": [
        "# slice dataset\n",
        "dataset = tf.data.Dataset.from_tensor_slices((filenames, labels_one_hot))"
      ]
    },
    {
      "cell_type": "code",
      "execution_count": null,
      "id": "a04addf5-4dbb-4c88-82a5-f9f008d361bb",
      "metadata": {
        "id": "a04addf5-4dbb-4c88-82a5-f9f008d361bb",
        "outputId": "dc200265-55f0-435d-a291-73e9290dc477"
      },
      "outputs": [
        {
          "data": {
            "text/plain": [
              "10015"
            ]
          },
          "execution_count": 12,
          "metadata": {},
          "output_type": "execute_result"
        }
      ],
      "source": [
        "# check number of image files being processed\n",
        "len(dataset)"
      ]
    },
    {
      "cell_type": "code",
      "execution_count": null,
      "id": "9cb8c7b6-4bfa-4f09-aae2-be4b1de499a7",
      "metadata": {
        "id": "9cb8c7b6-4bfa-4f09-aae2-be4b1de499a7"
      },
      "outputs": [],
      "source": [
        "dataset = dataset.map(parse_image).batch(32)  # You can adjust the batch size"
      ]
    },
    {
      "cell_type": "code",
      "execution_count": null,
      "id": "de029eb9-613e-4482-bc72-7d7df47f9be1",
      "metadata": {
        "id": "de029eb9-613e-4482-bc72-7d7df47f9be1"
      },
      "outputs": [],
      "source": [
        "# Split the dataset into training, testing, and validation\n",
        "train_size = int(0.8 * len(dataset))\n",
        "val_size = int(0.5 * train_size)\n",
        "\n",
        "val_dataset = dataset.skip(val_size)\n",
        "train_dataset = dataset.take(train_size)\n",
        "test_dataset = dataset.skip(train_size)\n"
      ]
    },
    {
      "cell_type": "code",
      "execution_count": null,
      "id": "b0640c68-6725-46b4-9b0b-6ef2a89049c5",
      "metadata": {
        "id": "b0640c68-6725-46b4-9b0b-6ef2a89049c5"
      },
      "outputs": [],
      "source": [
        "# Initialize the AutoKeras image classifier\n",
        "clf = ak.ImageClassifier(overwrite=True, max_trials=2)  # max_trials = 2 provides best performance\n"
      ]
    },
    {
      "cell_type": "code",
      "execution_count": null,
      "id": "eed1fb27-54af-47a4-b0ca-01f031c54d81",
      "metadata": {
        "id": "eed1fb27-54af-47a4-b0ca-01f031c54d81",
        "outputId": "8bcc1cfd-b41b-424b-d67d-247eb79461ec"
      },
      "outputs": [
        {
          "name": "stdout",
          "output_type": "stream",
          "text": [
            "Trial 2 Complete [00h 35m 45s]\n",
            "val_loss: 0.5735384225845337\n",
            "\n",
            "Best val_loss So Far: 0.5735384225845337\n",
            "Total elapsed time: 00h 43m 58s\n",
            "WARNING:tensorflow:Using a while_loop for converting RngReadAndSkip cause there is no registered converter for this op.\n",
            "WARNING:tensorflow:Using a while_loop for converting Bitcast cause there is no registered converter for this op.\n",
            "WARNING:tensorflow:Using a while_loop for converting Bitcast cause there is no registered converter for this op.\n",
            "WARNING:tensorflow:Using a while_loop for converting StatelessRandomUniformV2 cause there is no registered converter for this op.\n",
            "WARNING:tensorflow:Using a while_loop for converting RngReadAndSkip cause there is no registered converter for this op.\n",
            "WARNING:tensorflow:Using a while_loop for converting Bitcast cause there is no registered converter for this op.\n",
            "WARNING:tensorflow:Using a while_loop for converting Bitcast cause there is no registered converter for this op.\n",
            "WARNING:tensorflow:Using a while_loop for converting StatelessRandomUniformV2 cause there is no registered converter for this op.\n",
            "Epoch 1/15\n",
            "WARNING:tensorflow:Using a while_loop for converting RngReadAndSkip cause there is no registered converter for this op.\n",
            "WARNING:tensorflow:Using a while_loop for converting Bitcast cause there is no registered converter for this op.\n",
            "WARNING:tensorflow:Using a while_loop for converting Bitcast cause there is no registered converter for this op.\n",
            "WARNING:tensorflow:Using a while_loop for converting StatelessRandomUniformV2 cause there is no registered converter for this op.\n",
            "WARNING:tensorflow:Using a while_loop for converting RngReadAndSkip cause there is no registered converter for this op.\n",
            "WARNING:tensorflow:Using a while_loop for converting Bitcast cause there is no registered converter for this op.\n",
            "WARNING:tensorflow:Using a while_loop for converting Bitcast cause there is no registered converter for this op.\n",
            "WARNING:tensorflow:Using a while_loop for converting StatelessRandomUniformV2 cause there is no registered converter for this op.\n",
            "WARNING:tensorflow:Using a while_loop for converting RngReadAndSkip cause there is no registered converter for this op.\n",
            "WARNING:tensorflow:Using a while_loop for converting Bitcast cause there is no registered converter for this op.\n",
            "WARNING:tensorflow:Using a while_loop for converting Bitcast cause there is no registered converter for this op.\n",
            "WARNING:tensorflow:Using a while_loop for converting StatelessRandomUniformV2 cause there is no registered converter for this op.\n",
            "WARNING:tensorflow:Using a while_loop for converting RngReadAndSkip cause there is no registered converter for this op.\n",
            "WARNING:tensorflow:Using a while_loop for converting Bitcast cause there is no registered converter for this op.\n",
            "WARNING:tensorflow:Using a while_loop for converting Bitcast cause there is no registered converter for this op.\n",
            "WARNING:tensorflow:Using a while_loop for converting StatelessRandomUniformV2 cause there is no registered converter for this op.\n",
            "250/250 [==============================] - 149s 563ms/step - loss: 1.3264 - accuracy: 0.8714 - val_loss: 2.1272 - val_accuracy: 0.9443\n",
            "Epoch 2/15\n",
            "250/250 [==============================] - 140s 557ms/step - loss: 1.0662 - accuracy: 0.8319 - val_loss: 2.3294 - val_accuracy: 0.9443\n",
            "Epoch 3/15\n",
            "250/250 [==============================] - 3263s 13s/step - loss: 1.1203 - accuracy: 0.7594 - val_loss: 0.7940 - val_accuracy: 0.9443\n",
            "Epoch 4/15\n",
            "250/250 [==============================] - 135s 539ms/step - loss: 1.1775 - accuracy: 0.7674 - val_loss: 0.7465 - val_accuracy: 0.9443\n",
            "Epoch 5/15\n",
            "250/250 [==============================] - 140s 559ms/step - loss: 1.0220 - accuracy: 0.6694 - val_loss: 0.8899 - val_accuracy: 0.9443\n",
            "Epoch 6/15\n",
            "250/250 [==============================] - 141s 561ms/step - loss: 1.0382 - accuracy: 0.6747 - val_loss: 1.5045 - val_accuracy: 0.9443\n",
            "Epoch 7/15\n",
            "250/250 [==============================] - 141s 564ms/step - loss: 0.9524 - accuracy: 0.8259 - val_loss: 0.8836 - val_accuracy: 0.9443\n",
            "Epoch 8/15\n",
            "250/250 [==============================] - 141s 563ms/step - loss: 1.0408 - accuracy: 0.7124 - val_loss: 0.7213 - val_accuracy: 0.9443\n",
            "Epoch 9/15\n",
            "250/250 [==============================] - 141s 561ms/step - loss: 0.8578 - accuracy: 0.8443 - val_loss: 0.7940 - val_accuracy: 0.9443\n",
            "Epoch 10/15\n",
            "250/250 [==============================] - 141s 561ms/step - loss: 1.1208 - accuracy: 0.7138 - val_loss: 0.7046 - val_accuracy: 0.9443\n",
            "Epoch 11/15\n",
            "250/250 [==============================] - 141s 562ms/step - loss: 1.1680 - accuracy: 0.6150 - val_loss: 0.6949 - val_accuracy: 0.9443\n",
            "Epoch 12/15\n",
            "250/250 [==============================] - 141s 564ms/step - loss: 1.2604 - accuracy: 0.6094 - val_loss: 0.7186 - val_accuracy: 0.9443\n",
            "Epoch 13/15\n",
            "250/250 [==============================] - 141s 562ms/step - loss: 0.9292 - accuracy: 0.7755 - val_loss: 0.9405 - val_accuracy: 0.9443\n",
            "Epoch 14/15\n",
            "250/250 [==============================] - 141s 562ms/step - loss: 1.2798 - accuracy: 0.6435 - val_loss: 0.6319 - val_accuracy: 0.9443\n",
            "Epoch 15/15\n",
            "250/250 [==============================] - 141s 562ms/step - loss: 1.1517 - accuracy: 0.6255 - val_loss: 0.6727 - val_accuracy: 0.9443\n",
            "WARNING:tensorflow:Using a while_loop for converting RngReadAndSkip cause there is no registered converter for this op.\n",
            "WARNING:tensorflow:Using a while_loop for converting Bitcast cause there is no registered converter for this op.\n",
            "WARNING:tensorflow:Using a while_loop for converting Bitcast cause there is no registered converter for this op.\n",
            "WARNING:tensorflow:Using a while_loop for converting StatelessRandomUniformV2 cause there is no registered converter for this op.\n",
            "WARNING:tensorflow:Using a while_loop for converting RngReadAndSkip cause there is no registered converter for this op.\n",
            "WARNING:tensorflow:Using a while_loop for converting Bitcast cause there is no registered converter for this op.\n",
            "WARNING:tensorflow:Using a while_loop for converting Bitcast cause there is no registered converter for this op.\n",
            "WARNING:tensorflow:Using a while_loop for converting StatelessRandomUniformV2 cause there is no registered converter for this op.\n",
            "WARNING:tensorflow:Using a while_loop for converting RngReadAndSkip cause there is no registered converter for this op.\n",
            "WARNING:tensorflow:Using a while_loop for converting Bitcast cause there is no registered converter for this op.\n",
            "WARNING:tensorflow:Using a while_loop for converting Bitcast cause there is no registered converter for this op.\n",
            "WARNING:tensorflow:Using a while_loop for converting StatelessRandomUniformV2 cause there is no registered converter for this op.\n",
            "WARNING:tensorflow:Using a while_loop for converting RngReadAndSkip cause there is no registered converter for this op.\n",
            "WARNING:tensorflow:Using a while_loop for converting Bitcast cause there is no registered converter for this op.\n",
            "WARNING:tensorflow:Using a while_loop for converting Bitcast cause there is no registered converter for this op.\n",
            "WARNING:tensorflow:Using a while_loop for converting StatelessRandomUniformV2 cause there is no registered converter for this op.\n",
            "WARNING:tensorflow:Using a while_loop for converting RngReadAndSkip cause there is no registered converter for this op.\n",
            "WARNING:tensorflow:Using a while_loop for converting Bitcast cause there is no registered converter for this op.\n",
            "WARNING:tensorflow:Using a while_loop for converting Bitcast cause there is no registered converter for this op.\n",
            "WARNING:tensorflow:Using a while_loop for converting StatelessRandomUniformV2 cause there is no registered converter for this op.\n",
            "WARNING:tensorflow:Using a while_loop for converting RngReadAndSkip cause there is no registered converter for this op.\n",
            "WARNING:tensorflow:Using a while_loop for converting Bitcast cause there is no registered converter for this op.\n",
            "WARNING:tensorflow:Using a while_loop for converting Bitcast cause there is no registered converter for this op.\n",
            "WARNING:tensorflow:Using a while_loop for converting StatelessRandomUniformV2 cause there is no registered converter for this op.\n"
          ]
        },
        {
          "name": "stderr",
          "output_type": "stream",
          "text": [
            "WARNING:absl:Found untraced functions such as _jit_compiled_convolution_op, _jit_compiled_convolution_op, _jit_compiled_convolution_op, _jit_compiled_convolution_op, _jit_compiled_convolution_op while saving (showing 5 of 53). These functions will not be directly callable after loading.\n"
          ]
        },
        {
          "name": "stdout",
          "output_type": "stream",
          "text": [
            "INFO:tensorflow:Assets written to: .\\image_classifier\\best_model\\assets\n"
          ]
        },
        {
          "name": "stderr",
          "output_type": "stream",
          "text": [
            "INFO:tensorflow:Assets written to: .\\image_classifier\\best_model\\assets\n"
          ]
        }
      ],
      "source": [
        "# Train the model\n",
        "history = clf.fit(train_dataset, validation_data=val_dataset, epochs=15, batch_size=32, verbose=1)"
      ]
    },
    {
      "cell_type": "code",
      "execution_count": null,
      "id": "db8711dd-cb7c-47d5-8cf5-bda77320d75f",
      "metadata": {
        "id": "db8711dd-cb7c-47d5-8cf5-bda77320d75f",
        "outputId": "51804368-2c84-4e9c-c16f-ffcb4e1c53e1"
      },
      "outputs": [
        {
          "name": "stdout",
          "output_type": "stream",
          "text": [
            "63/63 [==============================] - 24s 50ms/step - loss: 1.9379 - accuracy: 0.8347\n",
            "Accuracy: 83.47%\n"
          ]
        }
      ],
      "source": [
        "# Evaluate the model against unseen data\n",
        "loss, acc = clf.evaluate(test_dataset)\n",
        "print(f\"Accuracy: {acc*100:.2f}%\")"
      ]
    },
    {
      "cell_type": "code",
      "execution_count": null,
      "id": "1b1e2556-05b3-4597-b5a4-359b3f260357",
      "metadata": {
        "id": "1b1e2556-05b3-4597-b5a4-359b3f260357"
      },
      "outputs": [],
      "source": []
    },
    {
      "cell_type": "code",
      "execution_count": null,
      "id": "e7a8b573-a692-49ac-a256-85789fc12c4c",
      "metadata": {
        "id": "e7a8b573-a692-49ac-a256-85789fc12c4c",
        "outputId": "1cffb21d-38b6-45de-cb01-f4daacf27c9c"
      },
      "outputs": [
        {
          "data": {
            "text/plain": [
              "<matplotlib.legend.Legend at 0x2aa23f1ed40>"
            ]
          },
          "execution_count": 21,
          "metadata": {},
          "output_type": "execute_result"
        },
        {
          "data": {
            "image/png": "[encoded data removed]",
            "text/plain": [
              "<Figure size 640x480 with 1 Axes>"
            ]
          },
          "metadata": {},
          "output_type": "display_data"
        }
      ],
      "source": [
        "# Plot model loss, train vs test\n",
        "plt.subplot(2,1,2)\n",
        "plt.plot(history.history['loss'])\n",
        "plt.plot(history.history['val_loss'])\n",
        "plt.title('model loss')\n",
        "plt.ylabel('loss')\n",
        "plt.xlabel('epoch')\n",
        "plt.legend(['train', 'test'], loc='upper right')"
      ]
    },
    {
      "cell_type": "code",
      "execution_count": null,
      "id": "db3e7c70-eb84-45cc-be2e-b063ba2debe2",
      "metadata": {
        "id": "db3e7c70-eb84-45cc-be2e-b063ba2debe2"
      },
      "outputs": [],
      "source": []
    }
  ],
  "metadata": {
    "kernelspec": {
      "display_name": "Python 3 (ipykernel)",
      "language": "python",
      "name": "python3"
    },
    "language_info": {
      "codemirror_mode": {
        "name": "ipython",
        "version": 3
      },
      "file_extension": ".py",
      "mimetype": "text/x-python",
      "name": "python",
      "nbconvert_exporter": "python",
      "pygments_lexer": "ipython3",
      "version": "3.10.10"
    },
    "colab": {
      "provenance": []
    }
  },
  "nbformat": 4,
  "nbformat_minor": 5
}