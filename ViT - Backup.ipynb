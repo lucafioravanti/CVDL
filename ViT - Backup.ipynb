{
  "nbformat": 4,
  "nbformat_minor": 0,
  "metadata": {
    "colab": {
      "provenance": []
    },
    "kernelspec": {
      "name": "python3",
      "display_name": "Python 3"
    },
    "language_info": {
      "name": "python"
    }
  },
  "cells": [
    {
      "cell_type": "code",
      "execution_count": null,
      "metadata": {
        "id": "eMyDqobM13WC"
      },
      "outputs": [],
      "source": [
        "# import libreries\n",
        "import os\n",
        "import pandas as pd\n",
        "from PIL import Image\n",
        "import numpy as np\n",
        "from keras.preprocessing.image import img_to_array, load_img\n",
        "\n",
        "from google.colab import drive"
      ]
    },
    {
      "cell_type": "code",
      "source": [
        "# set Google Drive path\n",
        "\n",
        "drive.mount('/content/drive')                   # standard\n",
        "DATA_DIR = '/content/drive/My Drive/HAM10000/'  # write correct folder/path after /My Drive/"
      ],
      "metadata": {
        "colab": {
          "base_uri": "https://localhost:8080/"
        },
        "id": "k0DJn-fr1-2d",
        "outputId": "6d14f1ca-4629-4ce4-f848-14326df8e6d6"
      },
      "execution_count": null,
      "outputs": [
        {
          "output_type": "stream",
          "name": "stdout",
          "text": [
            "Mounted at /content/drive\n"
          ]
        }
      ]
    },
    {
      "cell_type": "code",
      "source": [
        "# LITE VERSION TEST\n",
        "# please, remove the LIMIT on num_rows_to_read to load the whole dataset.\n",
        "\n",
        "# specify the number of rows to read (adjust as needed)\n",
        "num_rows_to_read = 30\n",
        "\n",
        "# load only a subset of the dataset\n",
        "data = pd.read_csv(os.path.join(DATA_DIR, 'HAM10000_metadata.csv'), nrows=num_rows_to_read)\n",
        "\n",
        "# add a new column to dataset for complete image path\n",
        "data['image_path'] = DATA_DIR + 'images/' + data['image_id'] + '.jpg'\n",
        "\n",
        "# create a dictionary for better readability\n",
        "lesion_type_dict = {\n",
        "    'nv': 'Melanocytic nevi',\n",
        "    'mel': 'Melanoma',\n",
        "    'bkl': 'Benign keratosis-like lesions ',\n",
        "    'bcc': 'Basal cell carcinoma',\n",
        "    'akiec': 'Actinic keratoses',\n",
        "    'vasc': 'Vascular lesions',\n",
        "    'df': 'Dermatofibroma'\n",
        "}\n",
        "\n",
        "# add two more columns for better readability\n",
        "data['cell_type'] = data['dx'].map(lesion_type_dict.get)\n",
        "data['cell_type_idx'] = pd.Categorical(data['cell_type']).codes\n",
        "\n",
        "# add image to the dataset\n",
        "data['image'] = data['image_path'].apply(lambda x: Image.open(x).convert('RGB'))\n"
      ],
      "metadata": {
        "id": "5NTymuMW2Ec3"
      },
      "execution_count": null,
      "outputs": []
    },
    {
      "cell_type": "code",
      "source": [
        "# fill null ages with the mean\n",
        "data['age'].fillna((data['age'].mean()), inplace=True)"
      ],
      "metadata": {
        "id": "_TSXFGnC2KfR"
      },
      "execution_count": null,
      "outputs": []
    },
    {
      "cell_type": "code",
      "source": [
        "# define a function to load and preprocess images\n",
        "def preprocess_image(image_path):\n",
        "    # size\n",
        "    img = load_img(image_path, target_size=(224, 224))\n",
        "    # pixel normalization to (0,1) by dividing them by 255\n",
        "    img = img_to_array(img) / 255.0\n",
        "    return img"
      ],
      "metadata": {
        "id": "CjjAr2z72VRI"
      },
      "execution_count": null,
      "outputs": []
    },
    {
      "cell_type": "code",
      "source": [
        "## -- Start Model -- ##"
      ],
      "metadata": {
        "id": "Re27SJYk2wvd"
      },
      "execution_count": null,
      "outputs": []
    },
    {
      "cell_type": "code",
      "source": [
        "from sklearn.model_selection import train_test_split\n",
        "\n",
        "# split the dataset into training and testing sets\n",
        "# 20 % testing, 80% training\n",
        "# fixing a random_state ensures that if the code is run multiple times, the same split between the training and test sets is obtained each time\n",
        "train_data, test_data = train_test_split(data, test_size=0.2, random_state=42)\n",
        "\n",
        "# separate the images and labels for training and testing sets\n",
        "train_images = np.array([preprocess_image(img_path) for img_path in train_data['image_path']])\n",
        "test_images = np.array([preprocess_image(img_path) for img_path in test_data['image_path']])\n",
        "\n",
        "train_labels = np.array(train_data['cell_type_idx'])\n",
        "test_labels = np.array(test_data['cell_type_idx'])\n"
      ],
      "metadata": {
        "id": "77lLxZgx4MQe"
      },
      "execution_count": null,
      "outputs": []
    },
    {
      "cell_type": "code",
      "source": [
        "!pip install vit_keras\n",
        "!pip install keras-vit\n",
        "!pip install tensorflow_addons"
      ],
      "metadata": {
        "colab": {
          "base_uri": "https://localhost:8080/"
        },
        "id": "e307hcTb4Q6t",
        "outputId": "06d92e14-91ff-4a39-ea66-ac76e828b538"
      },
      "execution_count": null,
      "outputs": [
        {
          "output_type": "stream",
          "name": "stdout",
          "text": [
            "Requirement already satisfied: vit_keras in /usr/local/lib/python3.10/dist-packages (0.1.2)\n",
            "Requirement already satisfied: scipy in /usr/local/lib/python3.10/dist-packages (from vit_keras) (1.11.4)\n",
            "Requirement already satisfied: validators in /usr/local/lib/python3.10/dist-packages (from vit_keras) (0.22.0)\n",
            "Requirement already satisfied: numpy<1.28.0,>=1.21.6 in /usr/local/lib/python3.10/dist-packages (from scipy->vit_keras) (1.25.2)\n",
            "Collecting keras-vit\n",
            "  Downloading keras_vit-1.0.1-py3-none-any.whl (10 kB)\n",
            "Installing collected packages: keras-vit\n",
            "Successfully installed keras-vit-1.0.1\n",
            "Collecting tensorflow_addons\n",
            "  Downloading tensorflow_addons-0.23.0-cp310-cp310-manylinux_2_17_x86_64.manylinux2014_x86_64.whl (611 kB)\n",
            "\u001b[2K     \u001b[90m━━━━━━━━━━━━━━━━━━━━━━━━━━━━━━━━━━━━━━━━\u001b[0m \u001b[32m611.8/611.8 kB\u001b[0m \u001b[31m8.4 MB/s\u001b[0m eta \u001b[36m0:00:00\u001b[0m\n",
            "\u001b[?25hRequirement already satisfied: packaging in /usr/local/lib/python3.10/dist-packages (from tensorflow_addons) (23.2)\n",
            "Collecting typeguard<3.0.0,>=2.7 (from tensorflow_addons)\n",
            "  Downloading typeguard-2.13.3-py3-none-any.whl (17 kB)\n",
            "Installing collected packages: typeguard, tensorflow_addons\n",
            "Successfully installed tensorflow_addons-0.23.0 typeguard-2.13.3\n"
          ]
        }
      ]
    },
    {
      "cell_type": "code",
      "source": [
        "from vit_keras import vit\n",
        "import tensorflow as tf\n",
        "import tensorflow_addons as tfa\n",
        "from tensorflow.keras.callbacks import EarlyStopping\n",
        "from keras.callbacks import ModelCheckpoint\n",
        "import math\n",
        "\n",
        "# initialize a ViT using a vit_32 architecture\n",
        "vit_model = vit.vit_b32(\n",
        "        image_size = 224,         # size of the input images expected by the model\n",
        "        activation = 'softmax',   # activation function for the output layer (softmax for classification)\n",
        "        pretrained = True,        # pre-trained weights for the model\n",
        "        include_top = False,      # not include the top classification layer\n",
        "        pretrained_top = False,   # pre-trained weights for the top classification layer\n",
        "        classes = 7               # number of output classes for classification\n",
        ")\n",
        "\n"
      ],
      "metadata": {
        "colab": {
          "base_uri": "https://localhost:8080/"
        },
        "id": "5t5kOjhk4Z3X",
        "outputId": "b039b8ff-07ba-4b8e-ad47-953f5adb39f8"
      },
      "execution_count": null,
      "outputs": [
        {
          "output_type": "stream",
          "name": "stderr",
          "text": [
            "/usr/local/lib/python3.10/dist-packages/tensorflow_addons/utils/tfa_eol_msg.py:23: UserWarning: \n",
            "\n",
            "TensorFlow Addons (TFA) has ended development and introduction of new features.\n",
            "TFA has entered a minimal maintenance and release mode until a planned end of life in May 2024.\n",
            "Please modify downstream libraries to take dependencies from other repositories in our TensorFlow community (e.g. Keras, Keras-CV, and Keras-NLP). \n",
            "\n",
            "For more information see: https://github.com/tensorflow/addons/issues/2807 \n",
            "\n",
            "  warnings.warn(\n"
          ]
        },
        {
          "output_type": "stream",
          "name": "stdout",
          "text": [
            "Downloading data from https://github.com/faustomorales/vit-keras/releases/download/dl/ViT-B_32_imagenet21k+imagenet2012.npz\n",
            "353253686/353253686 [==============================] - 3s 0us/step\n"
          ]
        },
        {
          "output_type": "stream",
          "name": "stderr",
          "text": [
            "/usr/local/lib/python3.10/dist-packages/vit_keras/utils.py:81: UserWarning: Resizing position embeddings from 12, 12 to 7, 7\n",
            "  warnings.warn(\n"
          ]
        }
      ]
    },
    {
      "cell_type": "code",
      "source": [
        "model = tf.keras.Sequential([\n",
        "        vit_model,\n",
        "        # additional layers\n",
        "        tf.keras.layers.Flatten(),                                      # flatten the output\n",
        "        tf.keras.layers.BatchNormalization(),                           # batch normalization\n",
        "        tf.keras.layers.Dense(11, activation = tfa.activations.gelu),   # dense layer with GELU activation\n",
        "        tf.keras.layers.BatchNormalization(),                           # batch normalization\n",
        "        tf.keras.layers.Dense(7, 'softmax')                             # final classification with softmax\n",
        "    ],\n",
        "    name = 'vision_transformer')\n",
        "\n",
        "# model.summary()"
      ],
      "metadata": {
        "id": "Pl9ytOcv4gFg"
      },
      "execution_count": null,
      "outputs": []
    },
    {
      "cell_type": "code",
      "source": [
        "# compile the model\n",
        "model.compile(\n",
        "    optimizer='adam',\n",
        "    loss='sparse_categorical_crossentropy',\n",
        "    metrics=['accuracy']\n",
        ")\n",
        "\n",
        "# adam for adaptive learning rate\n",
        "# sparse categorical cross-entropy cause multiclass classification problems where each instance can only belong to one class"
      ],
      "metadata": {
        "id": "D2cRZXXt7qze"
      },
      "execution_count": null,
      "outputs": []
    },
    {
      "cell_type": "code",
      "source": [
        "# define callbacks\n",
        "\n",
        "# stops training if the loss on validation does not improve for 3 consecutive epochs\n",
        "early_stopping = EarlyStopping(monitor='val_loss', patience=3, restore_best_weights=True)\n",
        "# saves (in vit_model.h5) only the model weights that led to an improvement on validation loss\n",
        "model_checkpoint = ModelCheckpoint('vit_model.h5', save_best_only=True)\n"
      ],
      "metadata": {
        "id": "tpQ1HPqv71xF"
      },
      "execution_count": null,
      "outputs": []
    },
    {
      "cell_type": "code",
      "source": [
        "def step_decay(epoch):\n",
        "    initial_lrate = 0.001       # initial learning rate\n",
        "    drop = 0.1                  # factor by which the learning rate will be dropped\n",
        "    epochs_drop = 10            # number of epochs after which the learning rate will be dropped\n",
        "    lrate = initial_lrate * math.pow(drop, math.floor((1+epoch)/epochs_drop))\n",
        "    return lrate\n",
        "\n",
        "# apply this dynamic learning rate adjustment\n",
        "lr_scheduler = tf.keras.callbacks.LearningRateScheduler(step_decay, verbose=1)\n",
        "callbacks = [early_stopping, model_checkpoint, lr_scheduler]"
      ],
      "metadata": {
        "id": "PwXS1kdx76bP"
      },
      "execution_count": null,
      "outputs": []
    },
    {
      "cell_type": "code",
      "source": [
        "history = model.fit(\n",
        "    train_images, train_labels,                 # training\n",
        "    validation_data=(test_images, test_labels), # validation\n",
        "    epochs=20,                                  # no. of epochs\n",
        "    batch_size=32,                              # batch size\n",
        "    callbacks=callbacks                         # callbacks for monitoring and adjustments during training\n",
        ")\n"
      ],
      "metadata": {
        "colab": {
          "base_uri": "https://localhost:8080/"
        },
        "id": "TPUXupvw9GNe",
        "outputId": "553babb4-e70f-4614-e7c8-ab35d1105e4f"
      },
      "execution_count": null,
      "outputs": [
        {
          "output_type": "stream",
          "name": "stdout",
          "text": [
            "\n",
            "Epoch 1: LearningRateScheduler setting learning rate to 0.001.\n",
            "Epoch 1/20\n",
            "1/1 [==============================] - 16s 16s/step - loss: 2.1517 - accuracy: 0.1667 - val_loss: 2.4137 - val_accuracy: 0.0000e+00 - lr: 0.0010\n",
            "\n",
            "Epoch 2: LearningRateScheduler setting learning rate to 0.001.\n",
            "Epoch 2/20\n",
            "1/1 [==============================] - 15s 15s/step - loss: 2.1476 - accuracy: 0.1250 - val_loss: 2.4535 - val_accuracy: 0.0000e+00 - lr: 0.0010\n",
            "\n",
            "Epoch 3: LearningRateScheduler setting learning rate to 0.001.\n",
            "Epoch 3/20\n",
            "1/1 [==============================] - 15s 15s/step - loss: 2.1779 - accuracy: 0.1250 - val_loss: 2.4511 - val_accuracy: 0.0000e+00 - lr: 0.0010\n",
            "\n",
            "Epoch 4: LearningRateScheduler setting learning rate to 0.001.\n",
            "Epoch 4/20\n",
            "1/1 [==============================] - 14s 14s/step - loss: 2.1115 - accuracy: 0.0833 - val_loss: 2.4445 - val_accuracy: 0.0000e+00 - lr: 0.0010\n"
          ]
        }
      ]
    },
    {
      "cell_type": "code",
      "source": [
        "import matplotlib.pyplot as plt\n",
        "\n",
        "# plot training history\n",
        "plt.plot(history.history['loss'], label='Training Loss')\n",
        "plt.plot(history.history['val_loss'], label='Validation Loss')\n",
        "plt.legend()\n",
        "plt.title('Training and Validation Loss')\n",
        "plt.show()\n",
        "# plot the training loss values recorded during each epoch and the validation loss values recorded during each epoch\n",
        "# OK DEcreasing\n",
        "# KO large gap = overfitting\n",
        "\n",
        "plt.plot(history.history['accuracy'], label='Training Accuracy')\n",
        "plt.plot(history.history['val_accuracy'], label='Validation Accuracy')\n",
        "plt.legend()\n",
        "plt.title('Training and Validation Accuracy')\n",
        "plt.show()\n",
        "# Plot the accuracy of training and validation during each epoch.\n",
        "# OK INcreasing\n",
        "# KO large gap = overfitting\n",
        "\n",
        "# NOTE: Limited dataset - Model test"
      ],
      "metadata": {
        "colab": {
          "base_uri": "https://localhost:8080/",
          "height": 887
        },
        "id": "fDcxXWvW93xD",
        "outputId": "cfd90bd0-3383-40ef-e4d0-1ca832cfc2a3"
      },
      "execution_count": null,
      "outputs": [
        {
          "output_type": "display_data",
          "data": {
            "text/plain": [
              "<Figure size 640x480 with 1 Axes>"
            ],
            "image/png": "[encoded data removed]"
          },
          "metadata": {}
        },
        {
          "output_type": "display_data",
          "data": {
            "text/plain": [
              "<Figure size 640x480 with 1 Axes>"
            ],
            "image/png": "[encoded data removed]"
          },
          "metadata": {}
        }
      ]
    },
    {
      "cell_type": "code",
      "source": [
        "test_loss, test_accuracy = model.evaluate(test_images, test_labels)\n",
        "print(f'Test Loss: {test_loss:.4f}')\n",
        "print(f'Test Accuracy: {test_accuracy:.4f}')"
      ],
      "metadata": {
        "colab": {
          "base_uri": "https://localhost:8080/"
        },
        "id": "oVvgKH8v95dK",
        "outputId": "f3058817-0ec1-43f9-f962-994dfac40f04"
      },
      "execution_count": null,
      "outputs": [
        {
          "output_type": "stream",
          "name": "stdout",
          "text": [
            "1/1 [==============================] - 2s 2s/step - loss: 2.4137 - accuracy: 0.0000e+00\n",
            "Test Loss: 2.4137\n",
            "Test Accuracy: 0.0000\n"
          ]
        }
      ]
    },
    {
      "cell_type": "code",
      "source": [
        "predictions = model.predict(test_images)\n"
      ],
      "metadata": {
        "colab": {
          "base_uri": "https://localhost:8080/"
        },
        "id": "MmqyqtG199JF",
        "outputId": "e9aa9785-5b91-46d3-9a3a-94064194ba03"
      },
      "execution_count": null,
      "outputs": [
        {
          "output_type": "stream",
          "name": "stdout",
          "text": [
            "1/1 [==============================] - 5s 5s/step\n"
          ]
        }
      ]
    },
    {
      "cell_type": "code",
      "source": [
        "from sklearn.metrics import confusion_matrix, classification_report\n",
        "\n",
        "# convert predicted probabilities to class labels\n",
        "predicted_labels = np.argmax(predictions, axis=1)\n",
        "\n",
        "# create confusion matrix\n",
        "confusion_mat = confusion_matrix(test_labels, predicted_labels)\n",
        "\n",
        "# display confusion matrix\n",
        "print(\"Confusion Matrix:\")\n",
        "print(confusion_mat)\n",
        "\n",
        "# classification Report\n",
        "print(\"\\nClassification Report:\")\n",
        "print(classification_report(test_labels, predicted_labels))\n"
      ],
      "metadata": {
        "colab": {
          "base_uri": "https://localhost:8080/"
        },
        "id": "jUpz2kQV991t",
        "outputId": "1994c4ff-1083-4d47-ac1c-4944c13e3d92"
      },
      "execution_count": null,
      "outputs": [
        {
          "output_type": "stream",
          "name": "stdout",
          "text": [
            "Confusion Matrix:\n",
            "[[10]]\n",
            "\n",
            "Classification Report:\n",
            "              precision    recall  f1-score   support\n",
            "\n",
            "           0       1.00      1.00      1.00        10\n",
            "\n",
            "    accuracy                           1.00        10\n",
            "   macro avg       1.00      1.00      1.00        10\n",
            "weighted avg       1.00      1.00      1.00        10\n",
            "\n"
          ]
        }
      ]
    },
    {
      "cell_type": "code",
      "source": [
        "# visualize some predictions\n",
        "for i in range(5):  # Adjust the range as needed\n",
        "    print(f\"True Label: {test_labels[i]}, Predicted Label: {predicted_labels[i]}\")\n"
      ],
      "metadata": {
        "colab": {
          "base_uri": "https://localhost:8080/"
        },
        "id": "z3tW3ok99_u6",
        "outputId": "e28ac7cc-1b75-4d68-caa5-5ee0d3d56ae6"
      },
      "execution_count": null,
      "outputs": [
        {
          "output_type": "stream",
          "name": "stdout",
          "text": [
            "True Label: 0, Predicted Label: 0\n",
            "True Label: 0, Predicted Label: 0\n",
            "True Label: 0, Predicted Label: 0\n",
            "True Label: 0, Predicted Label: 0\n",
            "True Label: 0, Predicted Label: 0\n"
          ]
        }
      ]
    }
  ]
}